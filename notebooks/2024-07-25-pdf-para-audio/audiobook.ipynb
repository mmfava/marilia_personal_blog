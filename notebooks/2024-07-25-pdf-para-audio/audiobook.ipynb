{
 "cells": [
  {
   "cell_type": "raw",
   "metadata": {
    "vscode": {
     "languageId": "raw"
    }
   },
   "source": [
    "---\n",
    "title: \"Convertendo PDF para áudio\"\n",
    "subtitle: \"Experimentei dois métodos de conversão de arquivos PDF para áudio e comparei a qualidade do resultado.\"\n",
    "#image: image.png\n",
    "author:\n",
    "  - name: \"Marília Melo Favalesso\"\n",
    "    email: \"marilia.melo.favalesso@gmail.com\"\n",
    "date: \"2024-07-25\"\n",
    "citation: \n",
    "  url: \"http://www.mariliafavalesso.com\"\n",
    "  version: 1\n",
    "categories:\n",
    "  - Code\n",
    "  - Python\n",
    "  - PDF-to-audio\n",
    "lang: pt-br\n",
    "tags: \n",
    "  - PT-BR\n",
    "---"
   ]
  },
  {
   "cell_type": "markdown",
   "metadata": {},
   "source": [
    "## Convertendo PDF para áudio!\n",
    "\n",
    "Transformei um documento PDF sobre o lonomismo na América do Sul [aqui](Lonomismo_na_America_do_Sul.pdf) para áudio. \n",
    "\n",
    "Primeiramente, o texto foi extraído do PDF utilizando a biblioteca `PyPDF2`.\n",
    "\n",
    "Em seguida, realizei a conversão do texto para áudio utilizando duas bibliotecas: `pyttsx3` e `gTTS (Google Text-to-Speech)`. \n",
    "\n",
    "Por fim, avaliei qual dessas bibliotecas produziu o áudio mais natural e de melhor qualidade. Para isso, criei uma função chamada `play_first_5_seconds` para ouvir os primeiros 5 segundos de cada áudio gerado e realizar a comparação."
   ]
  },
  {
   "cell_type": "markdown",
   "metadata": {},
   "source": [
    "### Pré-requisitos\n",
    "\n",
    "Antes de executar o script, certifique-se de que seu sistema possui os seguintes pacotes e bibliotecas instalados:\n",
    "\n",
    "```\n",
    "# Atualização do sistema\n",
    "sudo apt-get update  \n",
    "# ferramenta de síntese de fala // utilizada pelo pyttsx3 para converter texto em fala \n",
    "sudo apt-get install espeak \n",
    "# ferramenta para manipulação de arquivos multimídia, necessária para o processamento de áudio\n",
    "sudo apt-get install ffmpeg  \n",
    "# conjunto de ferramentas necessárias para o gerenciamento de áudio no Linux \n",
    "sudo apt-get install alsa-utils \n",
    "# necessários para garantir que o áudio funcione corretamente no Jupyter Notebook \n",
    "sudo apt-get install alsa-base pulseaudio \n",
    "```\n",
    "    \n",
    "Necessário instalar as bibliotecas Python: \n",
    "- PyPDF2: Biblioteca para extração de texto de arquivos PDF.\n",
    "- pyttsx3: Biblioteca offline para conversão de texto em fala.\n",
    "- pydub: Biblioteca para manipulação de áudio.\n",
    "    \n",
    "```\n",
    "pip install PyPDF2  \n",
    "pip install pyttsx3\n",
    "pip install pydub\n",
    "```"
   ]
  },
  {
   "cell_type": "markdown",
   "metadata": {},
   "source": [
    "## Extrair as informações do PDF"
   ]
  },
  {
   "cell_type": "code",
   "execution_count": 1,
   "metadata": {},
   "outputs": [],
   "source": [
    "# Biblioteca \n",
    "import os\n",
    "import PyPDF2\n",
    "\n",
    "# ---------------------------------------------\n",
    "# Leitura do PDF\n",
    "# ---------------------------------------------\n",
    "\n",
    "# Caminho para o arquivo PDF\n",
    "diretorio   = os.getcwd() # define o diretório atual \n",
    "arquivo_pdf = \"texto_teste\" # arquivo para leitura \n",
    "arquivo     = f'{diretorio}/{arquivo_pdf}.pdf'\n",
    "\n",
    "# Abrir o arquivo em PDF\n",
    "file = open(arquivo, 'rb') # abrir arquivo binário \n",
    "readpdf = PyPDF2.PdfReader(file) # fazer a leitura do documento\n",
    "# readpdf.metadata # metadados \n",
    "\n",
    "# Percorre cada página do PDF\n",
    "for pagenumber in range(len(readpdf.pages)):\n",
    "    # Extrai o texto da página especificada\n",
    "    page = readpdf.pages[pagenumber]\n",
    "    text = page.extract_text()"
   ]
  },
  {
   "cell_type": "markdown",
   "metadata": {},
   "source": [
    "Exemplo de conteúdo em `page` e `text`:"
   ]
  },
  {
   "cell_type": "code",
   "execution_count": 2,
   "metadata": {},
   "outputs": [
    {
     "data": {
      "text/plain": [
       "{'/Type': '/Page',\n",
       " '/Parent': {'/Type': '/Pages',\n",
       "  '/Kids': [IndirectObject(3, 0, 140012445783408),\n",
       "   IndirectObject(5, 0, 140012445783408)],\n",
       "  '/Count': 2,\n",
       "  '/MediaBox': [0, 0, 595.28, 841.89]},\n",
       " '/Resources': {'/ProcSet': ['/PDF', '/Text', '/ImageB', '/ImageC', '/ImageI'],\n",
       "  '/Font': {'/F1': {'/Type': '/Font',\n",
       "    '/BaseFont': '/Helvetica-Bold',\n",
       "    '/Subtype': '/Type1',\n",
       "    '/Encoding': '/WinAnsiEncoding'},\n",
       "   '/F2': {'/Type': '/Font',\n",
       "    '/BaseFont': '/Helvetica',\n",
       "    '/Subtype': '/Type1',\n",
       "    '/Encoding': '/WinAnsiEncoding'}},\n",
       "  '/XObject': {}},\n",
       " '/Contents': {'/Filter': '/FlateDecode'},\n",
       " '/MediaBox': [0, 0, 595.28, 841.89]}"
      ]
     },
     "execution_count": 2,
     "metadata": {},
     "output_type": "execute_result"
    }
   ],
   "source": [
    "page"
   ]
  },
  {
   "cell_type": "code",
   "execution_count": 3,
   "metadata": {},
   "outputs": [
    {
     "data": {
      "text/plain": [
       "'Lonomismo na América do Sul\\nterapia intensiva para os casos mais graves.\\nPesquisas científicas sobre o veneno de Lonomia têm revelado uma complexa mistura de toxinas\\ncom atividades procoagulantes e anticoagulantes. Esses estudos são essenciais para o\\ndesenvolvimento de novos tratamentos e para o entendimento dos mecanismos de ação do\\nveneno. Além disso, a biologia e ecologia das larvas de Lonomia são áreas de grande interesse\\npara os cientistas, visando estratégias de controle e prevenção de acidentes.\\nEm resumo, o lonomismo é uma síndrome hemorrágica séria e potencialmente fatal, causada pelo\\ncontato com as larvas de Lonomia. A conscientização, prevenção e tratamento adequado são\\nfundamentais para a redução dos impactos dessa condição na América do Sul.'"
      ]
     },
     "execution_count": 3,
     "metadata": {},
     "output_type": "execute_result"
    }
   ],
   "source": [
    "text"
   ]
  },
  {
   "cell_type": "markdown",
   "metadata": {},
   "source": [
    "## Criar o áudio para leitura\n",
    "\n",
    "### Método 1: `pyttsx3`\n",
    "\n",
    "A biblioteca pyttsx3 é uma biblioteca Text-to-Speech (Texto para Fala) multiplataforma para Python, que funciona tanto offline quanto online. Ela suporta vários motores de fala, incluindo SAPI5, nsss e espeak, cada um com suas próprias vantagens, como controle sobre a voz, volume, velocidade da fala e tom. Uma de suas características mais notáveis é o suporte para alteração da voz e propriedades da fala no meio do discurso. Além disso, a pyttsx3 também permite que os usuários salvem o resultado da conversão de texto em voz como um arquivo .wav ou .mp3, fornecendo flexibilidade para várias aplicações. A biblioteca é fácil de usar e fornece um alto grau de personalização, tornando-a uma escolha popular entre os desenvolvedores que precisam de funcionalidades de texto para fala em seus projetos.\n"
   ]
  },
  {
   "cell_type": "code",
   "execution_count": 4,
   "metadata": {},
   "outputs": [],
   "source": [
    "# ---------------------------------------------\n",
    "# Configurar o áudio \n",
    "# ---------------------------------------------\n",
    "\n",
    "import pyttsx3 # Biblioteca para áudiobook\n",
    "\n",
    "# Iniciar o motor de fala pyttsx3 e armazenar na variável 'speaker'\n",
    "speaker = pyttsx3.init() \n",
    "\n",
    "# Obter a propriedade 'rate' (velocidade da fala) do 'speaker'   \n",
    "rate = speaker.getProperty('rate')   \n",
    "\n",
    "# Ajustar a velocidade da fala do 'speaker' para 200\n",
    "speaker.setProperty('rate', 150)\n",
    "\n",
    "# Obter a propriedade 'volume' do 'speaker'\n",
    "volume = speaker.getProperty('volume')\n",
    "\n",
    "# Ajustar o volume da fala do 'speaker' para 1 (o máximo)\n",
    "speaker.setProperty('volume', 1)"
   ]
  },
  {
   "cell_type": "code",
   "execution_count": 5,
   "metadata": {},
   "outputs": [],
   "source": [
    "# Importação da biblioteca.\n",
    "import pyttsx3\n",
    "\n",
    "# Criação de um objeto speaker/falante com pyttsx3.init(), que inicializa o motor de fala.\n",
    "speaker = pyttsx3.init()\n",
    "\n",
    "# Obtenção de todas as vozes disponíveis. O método speaker.getProperty('voices') retorna uma lista de vozes disponíveis.\n",
    "voices = speaker.getProperty('voices')\n",
    "\n",
    "# Percorre a lista de vozes obtidas anteriormente.\n",
    "for voice in voices:\n",
    "    # Verifica se contém \"brazil\" ou \"portuguese\" no nome da voz. \n",
    "    # Se for verdadeiro, seleciona a voz correspondente.\n",
    "    if \"brazil\" in voice.name.lower() or \"portuguese\" in voice.name.lower():\n",
    "        # Define essa voz como a voz padrão do falante.\n",
    "        speaker.setProperty('voice', voice.id)\n",
    "        break  # Sai do loop uma vez que a voz correta é encontrada.\n"
   ]
  },
  {
   "cell_type": "code",
   "execution_count": 6,
   "metadata": {},
   "outputs": [],
   "source": [
    "# Salvar o texto em um arquivo de áudio\n",
    "speaker.save_to_file(text, 'teste_pyttsx3.mp3')\n",
    "speaker.runAndWait()\n",
    "\n",
    "# Stop the speaker\n",
    "speaker.stop()"
   ]
  },
  {
   "cell_type": "markdown",
   "metadata": {},
   "source": [
    "### Método 2: `gTTS`\n",
    "\n",
    "A biblioteca gTTS (Google Text-to-Speech), é uma interface para o serviço de Texto para Fala do Google Translate. Ela permite que os desenvolvedores convertam texto em fala em mais de 100 idiomas e variantes. Com a capacidade de ajustar a velocidade de leitura, a preempção e a ênfase do discurso, a biblioteca gTTS é uma poderosa ferramenta para tornar aplicativos e sites mais acessíveis. Além disso, a biblioteca gTTS suporta a criação de arquivos de áudio mp3 ou wav a partir da saída de texto para voz, tornando-a versátil para vários tipos de projetos que requerem conversão de texto em voz."
   ]
  },
  {
   "cell_type": "code",
   "execution_count": 7,
   "metadata": {},
   "outputs": [],
   "source": [
    "from gtts import gTTS\n",
    "\n",
    "# Crie um objeto gTTS\n",
    "tts = gTTS(text=text, lang='pt-br')\n",
    "\n",
    "# Salve o arquivo de saída\n",
    "tts.save(\"teste_gtts.mp3\")"
   ]
  },
  {
   "cell_type": "markdown",
   "metadata": {},
   "source": [
    "### Comparar os áudios"
   ]
  },
  {
   "cell_type": "code",
   "execution_count": 12,
   "metadata": {},
   "outputs": [],
   "source": [
    "from pydub import AudioSegment\n",
    "from IPython.display import Audio\n",
    "\n",
    "def play_first_5_seconds(file):\n",
    "    \"\"\"\n",
    "    Carrega um arquivo de áudio, corta os primeiros 5 segundos e reproduz o segmento de áudio resultante.\n",
    "\n",
    "    Args:\n",
    "        file (str): O caminho para o arquivo de áudio que será carregado. O arquivo deve estar em um formato compatível\n",
    "                    com a biblioteca pyDub (wav, mp3, ogg, flv, aac, m4a, webm, etc.).\n",
    "\n",
    "    Returns:\n",
    "        IPython.lib.display.Audio: Um objeto de áudio que pode ser reproduzido em um Jupyter Notebook. O objeto de áudio contém\n",
    "                                   os primeiros 5 segundos do arquivo de entrada.\n",
    "    \"\"\"\n",
    "    # Carregar o audio\n",
    "    audio = AudioSegment.from_file(file)\n",
    "\n",
    "    # Cortar os primeiros 5 segundos\n",
    "    cut_audio = audio[:5000]  # PyDub trabalha em milissegundos\n",
    "\n",
    "    # Exportar o audio cortado\n",
    "    cut_file = \"cut_\" + file\n",
    "    cut_audio.export(cut_file, format=\"mp3\")\n",
    "\n",
    "    # Tocar o audio cortado\n",
    "    return Audio(cut_file)"
   ]
  },
  {
   "cell_type": "code",
   "execution_count": 13,
   "metadata": {},
   "outputs": [
    {
     "data": {
      "text/html": [
       "\n",
       "                <audio  controls=\"controls\" >\n",
       "                    <source src=\"data:audio/mpeg;base64,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\" type=\"audio/mpeg\" />\n",
       "                    Your browser does not support the audio element.\n",
       "                </audio>\n",
       "              "
      ],
      "text/plain": [
       "<IPython.lib.display.Audio object>"
      ]
     },
     "execution_count": 13,
     "metadata": {},
     "output_type": "execute_result"
    }
   ],
   "source": [
    "play_first_5_seconds(\"teste_pyttsx3.mp3\")"
   ]
  },
  {
   "cell_type": "code",
   "execution_count": 14,
   "metadata": {},
   "outputs": [
    {
     "data": {
      "text/html": [
       "\n",
       "                <audio  controls=\"controls\" >\n",
       "                    <source src=\"data:audio/mpeg;base64,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\" type=\"audio/mpeg\" />\n",
       "                    Your browser does not support the audio element.\n",
       "                </audio>\n",
       "              "
      ],
      "text/plain": [
       "<IPython.lib.display.Audio object>"
      ]
     },
     "execution_count": 14,
     "metadata": {},
     "output_type": "execute_result"
    }
   ],
   "source": [
    "play_first_5_seconds(\"teste_gtts.mp3\")"
   ]
  }
 ],
 "metadata": {
  "kernelspec": {
   "display_name": "Python 3",
   "language": "python",
   "name": "python3"
  },
  "language_info": {
   "codemirror_mode": {
    "name": "ipython",
    "version": 3
   },
   "file_extension": ".py",
   "mimetype": "text/x-python",
   "name": "python",
   "nbconvert_exporter": "python",
   "pygments_lexer": "ipython3",
   "version": "3.10.12"
  }
 },
 "nbformat": 4,
 "nbformat_minor": 2
}
